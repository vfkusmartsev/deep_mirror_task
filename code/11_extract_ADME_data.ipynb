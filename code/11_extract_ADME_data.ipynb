{
 "cells": [
  {
   "cell_type": "code",
   "execution_count": 1,
   "metadata": {},
   "outputs": [],
   "source": [
    "from tdc.single_pred import ADME\n",
    "from tdc.utils import retrieve_dataset_names"
   ]
  },
  {
   "attachments": {},
   "cell_type": "markdown",
   "metadata": {},
   "source": [
    "Check the names of ADME datasets and investigate data structure"
   ]
  },
  {
   "cell_type": "code",
   "execution_count": 3,
   "metadata": {},
   "outputs": [
    {
     "name": "stdout",
     "output_type": "stream",
     "text": [
      "['lipophilicity_astrazeneca', 'solubility_aqsoldb', 'hydrationfreeenergy_freesolv', 'caco2_wang', 'pampa_ncats', 'approved_pampa_ncats', 'hia_hou', 'pgp_broccatelli', 'bioavailability_ma', 'vdss_lombardo', 'cyp2c19_veith', 'cyp2d6_veith', 'cyp3a4_veith', 'cyp1a2_veith', 'cyp2c9_veith', 'cyp2c9_substrate_carbonmangels', 'cyp2d6_substrate_carbonmangels', 'cyp3a4_substrate_carbonmangels', 'bbb_martins', 'ppbr_az', 'half_life_obach', 'clearance_hepatocyte_az', 'clearance_microsome_az']\n"
     ]
    }
   ],
   "source": [
    "adme_datasets = retrieve_dataset_names('ADME')\n",
    "print(adme_datasets)"
   ]
  },
  {
   "cell_type": "code",
   "execution_count": 13,
   "metadata": {},
   "outputs": [],
   "source": [
    "#\n",
    "# Group the studies by index from website\n",
    "adme_grouping = {\n",
    "    'lipophilicity_astrazeneca':'absorption',\n",
    "    'solubility_aqsoldb':'absorption',\n",
    "    'hydrationfreeenergy_freesolv':'absorption',\n",
    "    'caco2_wang':'absorption',\n",
    "    'pampa_ncats':'absorption',\n",
    "    'approved_pampa_ncats':'absorption',\n",
    "    'hia_hou':'absorption',\n",
    "    'pgp_broccatelli':'absorption',\n",
    "    'bioavailability_ma':'absorption',\n",
    "    'vdss_lombardo':'distribution',\n",
    "    'cyp2c19_veith':'metabolism',\n",
    "    'cyp2d6_veith':'metabolism',\n",
    "    'cyp3a4_veith':'metabolism',\n",
    "    'cyp1a2_veith':'metabolism',\n",
    "    'cyp2c9_veith':'metabolism',\n",
    "    'cyp2c9_substrate_carbonmangels':'metabolism',\n",
    "    'cyp2d6_substrate_carbonmangels':'metabolism',\n",
    "    'cyp3a4_substrate_carbonmangels':'metabolism',\n",
    "    'bbb_martins':'distribution',\n",
    "    'ppbr_az':'distribution',\n",
    "    'half_life_obach':'excretion',\n",
    "    'clearance_hepatocyte_az':'excretion',\n",
    "    'clearance_microsome_az':'excretion'\n",
    "}\n",
    "\n",
    "# Add text descriptions of each study\n",
    "# This would add a lot of storage usage to the DB, and isn't required in the ML part, just for understanding the dataset. Can always refer to the website\n",
    "adme_text = {\n",
    "    'lipophilicity_astrazeneca',\n",
    "     'solubility_aqsoldb',\n",
    "     'hydrationfreeenergy_freesolv',\n",
    "     'caco2_wang',\n",
    "     'pampa_ncats',\n",
    "     'approved_pampa_ncats',\n",
    "     'hia_hou',\n",
    "     'pgp_broccatelli',\n",
    "     'bioavailability_ma',\n",
    "     'vdss_lombardo',\n",
    "     'cyp2c19_veith',\n",
    "     'cyp2d6_veith',\n",
    "     'cyp3a4_veith',\n",
    "     'cyp1a2_veith',\n",
    "     'cyp2c9_veith',\n",
    "     'cyp2c9_substrate_carbonmangels',\n",
    "     'cyp2d6_substrate_carbonmangels',\n",
    "     'cyp3a4_substrate_carbonmangels',\n",
    "     'bbb_martins',\n",
    "     'ppbr_az',\n",
    "     'half_life_obach',\n",
    "     'clearance_hepatocyte_az',\n",
    "     'clearance_microsome_az'\n",
    "}\n",
    "\n",
    "# Definition of prediction value\n",
    "adme_value_desc = {\n",
    "    'lipophilicity_astrazeneca',\n",
    "     'solubility_aqsoldb',\n",
    "     'hydrationfreeenergy_freesolv',\n",
    "     'caco2_wang',\n",
    "     'pampa_ncats',\n",
    "     'approved_pampa_ncats',\n",
    "     'hia_hou',\n",
    "     'pgp_broccatelli',\n",
    "     'bioavailability_ma',\n",
    "     'vdss_lombardo',\n",
    "     'cyp2c19_veith',\n",
    "     'cyp2d6_veith',\n",
    "     'cyp3a4_veith',\n",
    "     'cyp1a2_veith',\n",
    "     'cyp2c9_veith',\n",
    "     'cyp2c9_substrate_carbonmangels',\n",
    "     'cyp2d6_substrate_carbonmangels',\n",
    "     'cyp3a4_substrate_carbonmangels',\n",
    "     'bbb_martins',\n",
    "     'ppbr_az',\n",
    "     'half_life_obach',\n",
    "     'clearance_hepatocyte_az',\n",
    "     'clearance_microsome_az'\n",
    "}"
   ]
  },
  {
   "cell_type": "code",
   "execution_count": 9,
   "metadata": {},
   "outputs": [
    {
     "name": "stderr",
     "output_type": "stream",
     "text": [
      "Found local copy...\n",
      "Loading...\n",
      "Done!\n",
      "Downloading...\n"
     ]
    },
    {
     "name": "stdout",
     "output_type": "stream",
     "text": [
      "lipophilicity_astrazeneca :\n",
      "Index(['Drug_ID', 'Drug', 'Y'], dtype='object')\n",
      "_____\n",
      "solubility_aqsoldb :\n"
     ]
    },
    {
     "name": "stderr",
     "output_type": "stream",
     "text": [
      "100%|██████████| 853k/853k [00:00<00:00, 1.61MiB/s]\n",
      "Loading...\n",
      "Done!\n",
      "Downloading...\n"
     ]
    },
    {
     "name": "stdout",
     "output_type": "stream",
     "text": [
      "Index(['Drug_ID', 'Drug', 'Y'], dtype='object')\n",
      "_____\n",
      "hydrationfreeenergy_freesolv :\n"
     ]
    },
    {
     "name": "stderr",
     "output_type": "stream",
     "text": [
      "100%|██████████| 29.0k/29.0k [00:00<00:00, 406kiB/s]\n",
      "Loading...\n",
      "Done!\n",
      "Downloading...\n"
     ]
    },
    {
     "name": "stdout",
     "output_type": "stream",
     "text": [
      "Index(['Drug_ID', 'Drug', 'Y'], dtype='object')\n",
      "_____\n",
      "caco2_wang :\n"
     ]
    },
    {
     "name": "stderr",
     "output_type": "stream",
     "text": [
      "100%|██████████| 82.5k/82.5k [00:00<00:00, 620kiB/s]\n",
      "Loading...\n",
      "Done!\n",
      "Downloading...\n"
     ]
    },
    {
     "name": "stdout",
     "output_type": "stream",
     "text": [
      "Index(['Drug_ID', 'Drug', 'Y'], dtype='object')\n",
      "_____\n",
      "pampa_ncats :\n"
     ]
    },
    {
     "name": "stderr",
     "output_type": "stream",
     "text": [
      "100%|██████████| 144k/144k [00:00<00:00, 750kiB/s] \n",
      "Loading...\n",
      "Done!\n",
      "Downloading...\n"
     ]
    },
    {
     "name": "stdout",
     "output_type": "stream",
     "text": [
      "Index(['Drug_ID', 'Drug', 'Y'], dtype='object')\n",
      "_____\n",
      "approved_pampa_ncats :\n"
     ]
    },
    {
     "name": "stderr",
     "output_type": "stream",
     "text": [
      "100%|██████████| 10.3k/10.3k [00:00<00:00, 106kiB/s]\n",
      "Loading...\n",
      "Done!\n",
      "Downloading...\n"
     ]
    },
    {
     "name": "stdout",
     "output_type": "stream",
     "text": [
      "Index(['Drug_ID', 'Drug', 'Y'], dtype='object')\n",
      "_____\n",
      "hia_hou :\n"
     ]
    },
    {
     "name": "stderr",
     "output_type": "stream",
     "text": [
      "100%|██████████| 40.1k/40.1k [00:00<00:00, 513kiB/s]\n",
      "Loading...\n",
      "Done!\n",
      "Downloading...\n"
     ]
    },
    {
     "name": "stdout",
     "output_type": "stream",
     "text": [
      "Index(['Drug_ID', 'Drug', 'Y'], dtype='object')\n",
      "_____\n",
      "pgp_broccatelli :\n"
     ]
    },
    {
     "name": "stderr",
     "output_type": "stream",
     "text": [
      "100%|██████████| 126k/126k [00:00<00:00, 648kiB/s] \n",
      "Loading...\n",
      "Done!\n",
      "Downloading...\n"
     ]
    },
    {
     "name": "stdout",
     "output_type": "stream",
     "text": [
      "Index(['Drug_ID', 'Drug', 'Y'], dtype='object')\n",
      "_____\n",
      "bioavailability_ma :\n"
     ]
    },
    {
     "name": "stderr",
     "output_type": "stream",
     "text": [
      "100%|██████████| 43.7k/43.7k [00:00<00:00, 369kiB/s]\n",
      "Loading...\n",
      "Done!\n",
      "Downloading...\n"
     ]
    },
    {
     "name": "stdout",
     "output_type": "stream",
     "text": [
      "Index(['Drug_ID', 'Drug', 'Y'], dtype='object')\n",
      "_____\n",
      "vdss_lombardo :\n"
     ]
    },
    {
     "name": "stderr",
     "output_type": "stream",
     "text": [
      "100%|██████████| 89.9k/89.9k [00:00<00:00, 554kiB/s]\n",
      "Loading...\n",
      "Done!\n",
      "Downloading...\n"
     ]
    },
    {
     "name": "stdout",
     "output_type": "stream",
     "text": [
      "Index(['Drug_ID', 'Drug', 'Y'], dtype='object')\n",
      "_____\n",
      "cyp2c19_veith :\n"
     ]
    },
    {
     "name": "stderr",
     "output_type": "stream",
     "text": [
      "100%|██████████| 771k/771k [00:00<00:00, 1.25MiB/s]\n",
      "Loading...\n",
      "Done!\n",
      "Downloading...\n"
     ]
    },
    {
     "name": "stdout",
     "output_type": "stream",
     "text": [
      "Index(['Drug_ID', 'Drug', 'Y'], dtype='object')\n",
      "_____\n",
      "cyp2d6_veith :\n"
     ]
    },
    {
     "name": "stderr",
     "output_type": "stream",
     "text": [
      "100%|██████████| 800k/800k [00:00<00:00, 1.35MiB/s]\n",
      "Loading...\n",
      "Done!\n",
      "Downloading...\n"
     ]
    },
    {
     "name": "stdout",
     "output_type": "stream",
     "text": [
      "Index(['Drug_ID', 'Drug', 'Y'], dtype='object')\n",
      "_____\n",
      "cyp3a4_veith :\n"
     ]
    },
    {
     "name": "stderr",
     "output_type": "stream",
     "text": [
      "100%|██████████| 746k/746k [00:00<00:00, 1.31MiB/s]\n",
      "Loading...\n",
      "Done!\n",
      "Downloading...\n"
     ]
    },
    {
     "name": "stdout",
     "output_type": "stream",
     "text": [
      "Index(['Drug_ID', 'Drug', 'Y'], dtype='object')\n",
      "_____\n",
      "cyp1a2_veith :\n"
     ]
    },
    {
     "name": "stderr",
     "output_type": "stream",
     "text": [
      "100%|██████████| 760k/760k [00:00<00:00, 1.58MiB/s]\n",
      "Loading...\n",
      "Done!\n",
      "Downloading...\n"
     ]
    },
    {
     "name": "stdout",
     "output_type": "stream",
     "text": [
      "Index(['Drug_ID', 'Drug', 'Y'], dtype='object')\n",
      "_____\n",
      "cyp2c9_veith :\n"
     ]
    },
    {
     "name": "stderr",
     "output_type": "stream",
     "text": [
      "100%|██████████| 740k/740k [00:00<00:00, 1.61MiB/s]\n",
      "Loading...\n",
      "Done!\n",
      "Downloading...\n"
     ]
    },
    {
     "name": "stdout",
     "output_type": "stream",
     "text": [
      "Index(['Drug_ID', 'Drug', 'Y'], dtype='object')\n",
      "_____\n",
      "cyp2c9_substrate_carbonmangels :\n"
     ]
    },
    {
     "name": "stderr",
     "output_type": "stream",
     "text": [
      "100%|██████████| 45.6k/45.6k [00:00<00:00, 609kiB/s]\n",
      "Loading...\n",
      "Done!\n",
      "Downloading...\n"
     ]
    },
    {
     "name": "stdout",
     "output_type": "stream",
     "text": [
      "Index(['Drug_ID', 'Drug', 'Y'], dtype='object')\n",
      "_____\n",
      "cyp2d6_substrate_carbonmangels :\n"
     ]
    },
    {
     "name": "stderr",
     "output_type": "stream",
     "text": [
      "100%|██████████| 45.4k/45.4k [00:00<00:00, 586kiB/s]\n",
      "Loading...\n",
      "Done!\n",
      "Downloading...\n"
     ]
    },
    {
     "name": "stdout",
     "output_type": "stream",
     "text": [
      "Index(['Drug_ID', 'Drug', 'Y'], dtype='object')\n",
      "_____\n",
      "cyp3a4_substrate_carbonmangels :\n"
     ]
    },
    {
     "name": "stderr",
     "output_type": "stream",
     "text": [
      "100%|██████████| 46.0k/46.0k [00:00<00:00, 333kiB/s]\n",
      "Loading...\n",
      "Done!\n",
      "Downloading...\n"
     ]
    },
    {
     "name": "stdout",
     "output_type": "stream",
     "text": [
      "Index(['Drug_ID', 'Drug', 'Y'], dtype='object')\n",
      "_____\n",
      "bbb_martins :\n"
     ]
    },
    {
     "name": "stderr",
     "output_type": "stream",
     "text": [
      "100%|██████████| 138k/138k [00:00<00:00, 781kiB/s] \n",
      "Loading...\n",
      "Done!\n",
      "Downloading...\n"
     ]
    },
    {
     "name": "stdout",
     "output_type": "stream",
     "text": [
      "Index(['Drug_ID', 'Drug', 'Y'], dtype='object')\n",
      "_____\n",
      "ppbr_az :\n"
     ]
    },
    {
     "name": "stderr",
     "output_type": "stream",
     "text": [
      "100%|██████████| 265k/265k [00:00<00:00, 660kiB/s] \n",
      "Loading...\n",
      "Done!\n",
      "Downloading...\n"
     ]
    },
    {
     "name": "stdout",
     "output_type": "stream",
     "text": [
      "Index(['Drug_ID', 'Drug', 'Y'], dtype='object')\n",
      "_____\n",
      "half_life_obach :\n"
     ]
    },
    {
     "name": "stderr",
     "output_type": "stream",
     "text": [
      "100%|██████████| 53.6k/53.6k [00:00<00:00, 695kiB/s]\n",
      "Loading...\n",
      "Done!\n",
      "Downloading...\n"
     ]
    },
    {
     "name": "stdout",
     "output_type": "stream",
     "text": [
      "Index(['Drug_ID', 'Drug', 'Y'], dtype='object')\n",
      "_____\n",
      "clearance_hepatocyte_az :\n"
     ]
    },
    {
     "name": "stderr",
     "output_type": "stream",
     "text": [
      "100%|██████████| 91.6k/91.6k [00:00<00:00, 558kiB/s]\n",
      "Loading...\n",
      "Done!\n",
      "Downloading...\n"
     ]
    },
    {
     "name": "stdout",
     "output_type": "stream",
     "text": [
      "Index(['Drug_ID', 'Drug', 'Y'], dtype='object')\n",
      "_____\n",
      "clearance_microsome_az :\n"
     ]
    },
    {
     "name": "stderr",
     "output_type": "stream",
     "text": [
      "100%|██████████| 81.7k/81.7k [00:00<00:00, 347kiB/s] \n",
      "Loading...\n",
      "Done!\n"
     ]
    },
    {
     "name": "stdout",
     "output_type": "stream",
     "text": [
      "Index(['Drug_ID', 'Drug', 'Y'], dtype='object')\n",
      "_____\n"
     ]
    }
   ],
   "source": [
    "for dataset in adme_datasets:\n",
    "    print(dataset, ':')\n",
    "    print(ADME(name = dataset).get_data('df').columns)\n",
    "    print('_____')"
   ]
  },
  {
   "attachments": {},
   "cell_type": "markdown",
   "metadata": {},
   "source": [
    "On inspection, all the datasets are of the structure:\n",
    "Index,  Drug_ID,    Drug,   Y\n",
    "\n",
    "The Y value however is value for different predictions, e.g. floating point value for the Caco-2 cell permeability, or a boolean for it's permeability in a PAMPA assay\n",
    "\n",
    "Therefore, we should import each ADME dataset as a different table with a different description of it's effect. There are 23 different ADME datasets. Note I will need to be careful with molecule name redundancy, what are the reference IDs in the original ChEMBL database: IDs saved in the `MOLECULE_DICTIONARY` table as `chembl_id`.\n",
    "\n",
    "Maybe split "
   ]
  },
  {
   "cell_type": "code",
   "execution_count": 4,
   "metadata": {},
   "outputs": [
    {
     "name": "stderr",
     "output_type": "stream",
     "text": [
      "Downloading...\n",
      "100%|██████████| 298k/298k [00:00<00:00, 862kiB/s] \n",
      "Loading...\n",
      "Done!\n"
     ]
    },
    {
     "data": {
      "text/plain": [
       "<tdc.single_pred.adme.ADME at 0x1139f1b10>"
      ]
     },
     "execution_count": 4,
     "metadata": {},
     "output_type": "execute_result"
    }
   ],
   "source": [
    "test_dataset = adme_datasets[0]\n",
    "data = ADME(name = test_dataset)\n"
   ]
  },
  {
   "cell_type": "code",
   "execution_count": 7,
   "metadata": {},
   "outputs": [
    {
     "data": {
      "text/html": [
       "<div>\n",
       "<style scoped>\n",
       "    .dataframe tbody tr th:only-of-type {\n",
       "        vertical-align: middle;\n",
       "    }\n",
       "\n",
       "    .dataframe tbody tr th {\n",
       "        vertical-align: top;\n",
       "    }\n",
       "\n",
       "    .dataframe thead th {\n",
       "        text-align: right;\n",
       "    }\n",
       "</style>\n",
       "<table border=\"1\" class=\"dataframe\">\n",
       "  <thead>\n",
       "    <tr style=\"text-align: right;\">\n",
       "      <th></th>\n",
       "      <th>Drug_ID</th>\n",
       "      <th>Drug</th>\n",
       "      <th>Y</th>\n",
       "    </tr>\n",
       "  </thead>\n",
       "  <tbody>\n",
       "    <tr>\n",
       "      <th>0</th>\n",
       "      <td>CHEMBL596271</td>\n",
       "      <td>Cn1c(CN2CCN(c3ccc(Cl)cc3)CC2)nc2ccccc21</td>\n",
       "      <td>3.54</td>\n",
       "    </tr>\n",
       "    <tr>\n",
       "      <th>1</th>\n",
       "      <td>CHEMBL1951080</td>\n",
       "      <td>COc1cc(OC)c(S(=O)(=O)N2c3ccccc3CCC2C)cc1NC(=O)...</td>\n",
       "      <td>-1.18</td>\n",
       "    </tr>\n",
       "    <tr>\n",
       "      <th>2</th>\n",
       "      <td>CHEMBL1771</td>\n",
       "      <td>COC(=O)[C@H](c1ccccc1Cl)N1CCc2sccc2C1</td>\n",
       "      <td>3.69</td>\n",
       "    </tr>\n",
       "    <tr>\n",
       "      <th>3</th>\n",
       "      <td>CHEMBL234951</td>\n",
       "      <td>O=C(NC1Cc2ccccc2N(C[C@@H](O)CO)C1=O)c1cc2cc(Cl...</td>\n",
       "      <td>3.37</td>\n",
       "    </tr>\n",
       "    <tr>\n",
       "      <th>4</th>\n",
       "      <td>CHEMBL565079</td>\n",
       "      <td>Cc1cccc(C[C@H](NC(=O)c2cc(C(C)(C)C)nn2C)C(=O)N...</td>\n",
       "      <td>3.10</td>\n",
       "    </tr>\n",
       "    <tr>\n",
       "      <th>...</th>\n",
       "      <td>...</td>\n",
       "      <td>...</td>\n",
       "      <td>...</td>\n",
       "    </tr>\n",
       "    <tr>\n",
       "      <th>4195</th>\n",
       "      <td>CHEMBL496929</td>\n",
       "      <td>O=C(Nc1ccc(CCO)cc1)c1cc2cc(Cl)ccc2[nH]1</td>\n",
       "      <td>3.85</td>\n",
       "    </tr>\n",
       "    <tr>\n",
       "      <th>4196</th>\n",
       "      <td>CHEMBL199147</td>\n",
       "      <td>CCN(C(=O)Cc1ccc(S(C)(=O)=O)cc1)C1CCN(CCC(c2ccc...</td>\n",
       "      <td>3.21</td>\n",
       "    </tr>\n",
       "    <tr>\n",
       "      <th>4197</th>\n",
       "      <td>CHEMBL15932</td>\n",
       "      <td>COc1cccc2[nH]ncc12</td>\n",
       "      <td>2.10</td>\n",
       "    </tr>\n",
       "    <tr>\n",
       "      <th>4198</th>\n",
       "      <td>CHEMBL558748</td>\n",
       "      <td>O=C(NCC1CCCCC1)c1c(Cl)ccc2ncccc12</td>\n",
       "      <td>2.65</td>\n",
       "    </tr>\n",
       "    <tr>\n",
       "      <th>4199</th>\n",
       "      <td>CHEMBL237889</td>\n",
       "      <td>Cn1c(N)nc(CCc2ccc3ccccc3c2)cc1=O</td>\n",
       "      <td>2.70</td>\n",
       "    </tr>\n",
       "  </tbody>\n",
       "</table>\n",
       "<p>4200 rows × 3 columns</p>\n",
       "</div>"
      ],
      "text/plain": [
       "            Drug_ID                                               Drug     Y\n",
       "0      CHEMBL596271            Cn1c(CN2CCN(c3ccc(Cl)cc3)CC2)nc2ccccc21  3.54\n",
       "1     CHEMBL1951080  COc1cc(OC)c(S(=O)(=O)N2c3ccccc3CCC2C)cc1NC(=O)... -1.18\n",
       "2        CHEMBL1771              COC(=O)[C@H](c1ccccc1Cl)N1CCc2sccc2C1  3.69\n",
       "3      CHEMBL234951  O=C(NC1Cc2ccccc2N(C[C@@H](O)CO)C1=O)c1cc2cc(Cl...  3.37\n",
       "4      CHEMBL565079  Cc1cccc(C[C@H](NC(=O)c2cc(C(C)(C)C)nn2C)C(=O)N...  3.10\n",
       "...             ...                                                ...   ...\n",
       "4195   CHEMBL496929            O=C(Nc1ccc(CCO)cc1)c1cc2cc(Cl)ccc2[nH]1  3.85\n",
       "4196   CHEMBL199147  CCN(C(=O)Cc1ccc(S(C)(=O)=O)cc1)C1CCN(CCC(c2ccc...  3.21\n",
       "4197    CHEMBL15932                                 COc1cccc2[nH]ncc12  2.10\n",
       "4198   CHEMBL558748                  O=C(NCC1CCCCC1)c1c(Cl)ccc2ncccc12  2.65\n",
       "4199   CHEMBL237889                   Cn1c(N)nc(CCc2ccc3ccccc3c2)cc1=O  2.70\n",
       "\n",
       "[4200 rows x 3 columns]"
      ]
     },
     "execution_count": 7,
     "metadata": {},
     "output_type": "execute_result"
    }
   ],
   "source": [
    "data_df = data.get_data('df')\n",
    "data_df"
   ]
  },
  {
   "cell_type": "code",
   "execution_count": 10,
   "metadata": {},
   "outputs": [
    {
     "data": {
      "text/plain": [
       "13"
      ]
     },
     "execution_count": 10,
     "metadata": {},
     "output_type": "execute_result"
    }
   ],
   "source": [
    "max([len(i) for i in data_df.Drug_ID])"
   ]
  },
  {
   "cell_type": "code",
   "execution_count": 12,
   "metadata": {},
   "outputs": [
    {
     "data": {
      "text/plain": [
       "23"
      ]
     },
     "execution_count": 12,
     "metadata": {},
     "output_type": "execute_result"
    }
   ],
   "source": [
    "len(adme_datasets)"
   ]
  },
  {
   "cell_type": "code",
   "execution_count": 11,
   "metadata": {},
   "outputs": [
    {
     "data": {
      "text/plain": [
       "270"
      ]
     },
     "execution_count": 11,
     "metadata": {},
     "output_type": "execute_result"
    }
   ],
   "source": [
    "max([len(i) for i in data_df.Drug])"
   ]
  },
  {
   "attachments": {},
   "cell_type": "markdown",
   "metadata": {},
   "source": [
    "Restructure the data into the format of my tables. I.e.:\n",
    "\n",
    "adme_predictions = [id,  drug_id,  study_id,    predicted_value]\n",
    "\n",
    "adme_studies = [id,  study_name,  study_purpose]"
   ]
  },
  {
   "cell_type": "code",
   "execution_count": 39,
   "metadata": {},
   "outputs": [],
   "source": [
    "import pandas as pd\n",
    "adme_studies = pd.DataFrame({'study_name':adme_datasets,'study_purpose':[adme_grouping[i] for i in adme_datasets]})\n",
    "study_name_to_index = adme_studies['study_name'].to_dict()\n",
    "study_name_to_index = {v:k for k,v in study_name_to_index.items()}"
   ]
  },
  {
   "cell_type": "code",
   "execution_count": 17,
   "metadata": {},
   "outputs": [
    {
     "data": {
      "text/html": [
       "<div>\n",
       "<style scoped>\n",
       "    .dataframe tbody tr th:only-of-type {\n",
       "        vertical-align: middle;\n",
       "    }\n",
       "\n",
       "    .dataframe tbody tr th {\n",
       "        vertical-align: top;\n",
       "    }\n",
       "\n",
       "    .dataframe thead th {\n",
       "        text-align: right;\n",
       "    }\n",
       "</style>\n",
       "<table border=\"1\" class=\"dataframe\">\n",
       "  <thead>\n",
       "    <tr style=\"text-align: right;\">\n",
       "      <th></th>\n",
       "      <th>study_name</th>\n",
       "      <th>study_purpose</th>\n",
       "    </tr>\n",
       "  </thead>\n",
       "  <tbody>\n",
       "    <tr>\n",
       "      <th>0</th>\n",
       "      <td>lipophilicity_astrazeneca</td>\n",
       "      <td>absorption</td>\n",
       "    </tr>\n",
       "    <tr>\n",
       "      <th>1</th>\n",
       "      <td>solubility_aqsoldb</td>\n",
       "      <td>absorption</td>\n",
       "    </tr>\n",
       "    <tr>\n",
       "      <th>2</th>\n",
       "      <td>hydrationfreeenergy_freesolv</td>\n",
       "      <td>absorption</td>\n",
       "    </tr>\n",
       "    <tr>\n",
       "      <th>3</th>\n",
       "      <td>caco2_wang</td>\n",
       "      <td>absorption</td>\n",
       "    </tr>\n",
       "    <tr>\n",
       "      <th>4</th>\n",
       "      <td>pampa_ncats</td>\n",
       "      <td>absorption</td>\n",
       "    </tr>\n",
       "    <tr>\n",
       "      <th>5</th>\n",
       "      <td>approved_pampa_ncats</td>\n",
       "      <td>absorption</td>\n",
       "    </tr>\n",
       "    <tr>\n",
       "      <th>6</th>\n",
       "      <td>hia_hou</td>\n",
       "      <td>absorption</td>\n",
       "    </tr>\n",
       "    <tr>\n",
       "      <th>7</th>\n",
       "      <td>pgp_broccatelli</td>\n",
       "      <td>absorption</td>\n",
       "    </tr>\n",
       "    <tr>\n",
       "      <th>8</th>\n",
       "      <td>bioavailability_ma</td>\n",
       "      <td>absorption</td>\n",
       "    </tr>\n",
       "    <tr>\n",
       "      <th>9</th>\n",
       "      <td>vdss_lombardo</td>\n",
       "      <td>distribution</td>\n",
       "    </tr>\n",
       "    <tr>\n",
       "      <th>10</th>\n",
       "      <td>cyp2c19_veith</td>\n",
       "      <td>metabolism</td>\n",
       "    </tr>\n",
       "    <tr>\n",
       "      <th>11</th>\n",
       "      <td>cyp2d6_veith</td>\n",
       "      <td>metabolism</td>\n",
       "    </tr>\n",
       "    <tr>\n",
       "      <th>12</th>\n",
       "      <td>cyp3a4_veith</td>\n",
       "      <td>metabolism</td>\n",
       "    </tr>\n",
       "    <tr>\n",
       "      <th>13</th>\n",
       "      <td>cyp1a2_veith</td>\n",
       "      <td>metabolism</td>\n",
       "    </tr>\n",
       "    <tr>\n",
       "      <th>14</th>\n",
       "      <td>cyp2c9_veith</td>\n",
       "      <td>metabolism</td>\n",
       "    </tr>\n",
       "    <tr>\n",
       "      <th>15</th>\n",
       "      <td>cyp2c9_substrate_carbonmangels</td>\n",
       "      <td>metabolism</td>\n",
       "    </tr>\n",
       "    <tr>\n",
       "      <th>16</th>\n",
       "      <td>cyp2d6_substrate_carbonmangels</td>\n",
       "      <td>metabolism</td>\n",
       "    </tr>\n",
       "    <tr>\n",
       "      <th>17</th>\n",
       "      <td>cyp3a4_substrate_carbonmangels</td>\n",
       "      <td>metabolism</td>\n",
       "    </tr>\n",
       "    <tr>\n",
       "      <th>18</th>\n",
       "      <td>bbb_martins</td>\n",
       "      <td>distribution</td>\n",
       "    </tr>\n",
       "    <tr>\n",
       "      <th>19</th>\n",
       "      <td>ppbr_az</td>\n",
       "      <td>distribution</td>\n",
       "    </tr>\n",
       "    <tr>\n",
       "      <th>20</th>\n",
       "      <td>half_life_obach</td>\n",
       "      <td>excretion</td>\n",
       "    </tr>\n",
       "    <tr>\n",
       "      <th>21</th>\n",
       "      <td>clearance_hepatocyte_az</td>\n",
       "      <td>excretion</td>\n",
       "    </tr>\n",
       "    <tr>\n",
       "      <th>22</th>\n",
       "      <td>clearance_microsome_az</td>\n",
       "      <td>excretion</td>\n",
       "    </tr>\n",
       "  </tbody>\n",
       "</table>\n",
       "</div>"
      ],
      "text/plain": [
       "                        study_name study_purpose\n",
       "0        lipophilicity_astrazeneca    absorption\n",
       "1               solubility_aqsoldb    absorption\n",
       "2     hydrationfreeenergy_freesolv    absorption\n",
       "3                       caco2_wang    absorption\n",
       "4                      pampa_ncats    absorption\n",
       "5             approved_pampa_ncats    absorption\n",
       "6                          hia_hou    absorption\n",
       "7                  pgp_broccatelli    absorption\n",
       "8               bioavailability_ma    absorption\n",
       "9                    vdss_lombardo  distribution\n",
       "10                   cyp2c19_veith    metabolism\n",
       "11                    cyp2d6_veith    metabolism\n",
       "12                    cyp3a4_veith    metabolism\n",
       "13                    cyp1a2_veith    metabolism\n",
       "14                    cyp2c9_veith    metabolism\n",
       "15  cyp2c9_substrate_carbonmangels    metabolism\n",
       "16  cyp2d6_substrate_carbonmangels    metabolism\n",
       "17  cyp3a4_substrate_carbonmangels    metabolism\n",
       "18                     bbb_martins  distribution\n",
       "19                         ppbr_az  distribution\n",
       "20                 half_life_obach     excretion\n",
       "21         clearance_hepatocyte_az     excretion\n",
       "22          clearance_microsome_az     excretion"
      ]
     },
     "execution_count": 17,
     "metadata": {},
     "output_type": "execute_result"
    }
   ],
   "source": [
    "adme_studies"
   ]
  },
  {
   "cell_type": "code",
   "execution_count": 40,
   "metadata": {},
   "outputs": [
    {
     "data": {
      "text/plain": [
       "{'lipophilicity_astrazeneca': 0,\n",
       " 'solubility_aqsoldb': 1,\n",
       " 'hydrationfreeenergy_freesolv': 2,\n",
       " 'caco2_wang': 3,\n",
       " 'pampa_ncats': 4,\n",
       " 'approved_pampa_ncats': 5,\n",
       " 'hia_hou': 6,\n",
       " 'pgp_broccatelli': 7,\n",
       " 'bioavailability_ma': 8,\n",
       " 'vdss_lombardo': 9,\n",
       " 'cyp2c19_veith': 10,\n",
       " 'cyp2d6_veith': 11,\n",
       " 'cyp3a4_veith': 12,\n",
       " 'cyp1a2_veith': 13,\n",
       " 'cyp2c9_veith': 14,\n",
       " 'cyp2c9_substrate_carbonmangels': 15,\n",
       " 'cyp2d6_substrate_carbonmangels': 16,\n",
       " 'cyp3a4_substrate_carbonmangels': 17,\n",
       " 'bbb_martins': 18,\n",
       " 'ppbr_az': 19,\n",
       " 'half_life_obach': 20,\n",
       " 'clearance_hepatocyte_az': 21,\n",
       " 'clearance_microsome_az': 22}"
      ]
     },
     "execution_count": 40,
     "metadata": {},
     "output_type": "execute_result"
    }
   ],
   "source": [
    "study_name_to_index"
   ]
  },
  {
   "cell_type": "code",
   "execution_count": 41,
   "metadata": {},
   "outputs": [
    {
     "name": "stderr",
     "output_type": "stream",
     "text": [
      "Found local copy...\n",
      "Loading...\n",
      "Done!\n",
      "Found local copy...\n",
      "Loading...\n",
      "Done!\n",
      "Found local copy...\n",
      "Loading...\n",
      "Done!\n",
      "Found local copy...\n",
      "Loading...\n",
      "Done!\n",
      "Found local copy...\n",
      "Loading...\n",
      "Done!\n",
      "Found local copy...\n",
      "Loading...\n",
      "Done!\n",
      "Found local copy...\n",
      "Loading...\n",
      "Done!\n",
      "Found local copy...\n",
      "Loading...\n",
      "Done!\n",
      "Found local copy...\n",
      "Loading...\n",
      "Done!\n",
      "Found local copy...\n",
      "Loading...\n",
      "Done!\n",
      "Found local copy...\n",
      "Loading...\n",
      "Done!\n",
      "Found local copy...\n",
      "Loading...\n",
      "Done!\n",
      "Found local copy...\n",
      "Loading...\n",
      "Done!\n",
      "Found local copy...\n",
      "Loading...\n",
      "Done!\n",
      "Found local copy...\n",
      "Loading...\n",
      "Done!\n",
      "Found local copy...\n",
      "Loading...\n",
      "Done!\n",
      "Found local copy...\n",
      "Loading...\n",
      "Done!\n",
      "Found local copy...\n",
      "Loading...\n",
      "Done!\n",
      "Found local copy...\n",
      "Loading...\n",
      "Done!\n",
      "Found local copy...\n",
      "Loading...\n",
      "Done!\n",
      "Found local copy...\n",
      "Loading...\n",
      "Done!\n",
      "Found local copy...\n",
      "Loading...\n",
      "Done!\n",
      "Found local copy...\n",
      "Loading...\n",
      "Done!\n"
     ]
    }
   ],
   "source": [
    "start_bool = True\n",
    "for dataset in adme_datasets:\n",
    "    data = ADME(name = dataset).get_data('df')\n",
    "    data['study_id'] = study_name_to_index[dataset]\n",
    "    data.drop('Drug', axis = 1, inplace = True)\n",
    "    if start_bool:\n",
    "        temp = data\n",
    "        start_bool = False\n",
    "    else:\n",
    "        temp = pd.concat([temp, data])\n",
    "\n",
    "adme_predictions = temp.rename({'Drug_ID':'drug_id','Y':'predicted_value'}, axis = 1)"
   ]
  },
  {
   "cell_type": "code",
   "execution_count": 42,
   "metadata": {},
   "outputs": [
    {
     "data": {
      "text/html": [
       "<div>\n",
       "<style scoped>\n",
       "    .dataframe tbody tr th:only-of-type {\n",
       "        vertical-align: middle;\n",
       "    }\n",
       "\n",
       "    .dataframe tbody tr th {\n",
       "        vertical-align: top;\n",
       "    }\n",
       "\n",
       "    .dataframe thead th {\n",
       "        text-align: right;\n",
       "    }\n",
       "</style>\n",
       "<table border=\"1\" class=\"dataframe\">\n",
       "  <thead>\n",
       "    <tr style=\"text-align: right;\">\n",
       "      <th></th>\n",
       "      <th>drug_id</th>\n",
       "      <th>predicted_value</th>\n",
       "      <th>study_id</th>\n",
       "    </tr>\n",
       "  </thead>\n",
       "  <tbody>\n",
       "    <tr>\n",
       "      <th>0</th>\n",
       "      <td>CHEMBL596271</td>\n",
       "      <td>3.54</td>\n",
       "      <td>0</td>\n",
       "    </tr>\n",
       "    <tr>\n",
       "      <th>1</th>\n",
       "      <td>CHEMBL1951080</td>\n",
       "      <td>-1.18</td>\n",
       "      <td>0</td>\n",
       "    </tr>\n",
       "    <tr>\n",
       "      <th>2</th>\n",
       "      <td>CHEMBL1771</td>\n",
       "      <td>3.69</td>\n",
       "      <td>0</td>\n",
       "    </tr>\n",
       "    <tr>\n",
       "      <th>3</th>\n",
       "      <td>CHEMBL234951</td>\n",
       "      <td>3.37</td>\n",
       "      <td>0</td>\n",
       "    </tr>\n",
       "    <tr>\n",
       "      <th>4</th>\n",
       "      <td>CHEMBL565079</td>\n",
       "      <td>3.10</td>\n",
       "      <td>0</td>\n",
       "    </tr>\n",
       "    <tr>\n",
       "      <th>...</th>\n",
       "      <td>...</td>\n",
       "      <td>...</td>\n",
       "      <td>...</td>\n",
       "    </tr>\n",
       "    <tr>\n",
       "      <th>1097</th>\n",
       "      <td>CHEMBL1405928</td>\n",
       "      <td>28.00</td>\n",
       "      <td>22</td>\n",
       "    </tr>\n",
       "    <tr>\n",
       "      <th>1098</th>\n",
       "      <td>CHEMBL71</td>\n",
       "      <td>37.15</td>\n",
       "      <td>22</td>\n",
       "    </tr>\n",
       "    <tr>\n",
       "      <th>1099</th>\n",
       "      <td>CHEMBL129660</td>\n",
       "      <td>10.67</td>\n",
       "      <td>22</td>\n",
       "    </tr>\n",
       "    <tr>\n",
       "      <th>1100</th>\n",
       "      <td>CHEMBL1643200</td>\n",
       "      <td>11.00</td>\n",
       "      <td>22</td>\n",
       "    </tr>\n",
       "    <tr>\n",
       "      <th>1101</th>\n",
       "      <td>CHEMBL1952100</td>\n",
       "      <td>17.50</td>\n",
       "      <td>22</td>\n",
       "    </tr>\n",
       "  </tbody>\n",
       "</table>\n",
       "<p>92902 rows × 3 columns</p>\n",
       "</div>"
      ],
      "text/plain": [
       "            drug_id  predicted_value  study_id\n",
       "0      CHEMBL596271             3.54         0\n",
       "1     CHEMBL1951080            -1.18         0\n",
       "2        CHEMBL1771             3.69         0\n",
       "3      CHEMBL234951             3.37         0\n",
       "4      CHEMBL565079             3.10         0\n",
       "...             ...              ...       ...\n",
       "1097  CHEMBL1405928            28.00        22\n",
       "1098       CHEMBL71            37.15        22\n",
       "1099   CHEMBL129660            10.67        22\n",
       "1100  CHEMBL1643200            11.00        22\n",
       "1101  CHEMBL1952100            17.50        22\n",
       "\n",
       "[92902 rows x 3 columns]"
      ]
     },
     "execution_count": 42,
     "metadata": {},
     "output_type": "execute_result"
    }
   ],
   "source": [
    "adme_predictions"
   ]
  },
  {
   "attachments": {},
   "cell_type": "markdown",
   "metadata": {},
   "source": [
    "Load the data into postgres instance."
   ]
  },
  {
   "cell_type": "code",
   "execution_count": 74,
   "metadata": {},
   "outputs": [],
   "source": [
    "from sqlalchemy import create_engine\n",
    "import psycopg2\n",
    "password_var = 'password' # This isn't really my password ;P\n",
    "engine = create_engine('postgresql://postgres:%s@chembl-31.cxkbhq0cyqwz.eu-west-2.rds.amazonaws.com:5432/chembl_31' %password_var)\n"
   ]
  },
  {
   "cell_type": "code",
   "execution_count": 75,
   "metadata": {},
   "outputs": [
    {
     "data": {
      "text/plain": [
       "23"
      ]
     },
     "execution_count": 75,
     "metadata": {},
     "output_type": "execute_result"
    }
   ],
   "source": [
    "adme_studies.to_sql('adme_studies', engine, if_exists='append', index_label = 'id')\n",
    "#adme_predictions.to_sql('adme_predictions', engine, if_exists='append', index_label = 'id')"
   ]
  },
  {
   "attachments": {},
   "cell_type": "markdown",
   "metadata": {},
   "source": [
    "The add to adme_predictions failed because some ChEMBL IDs in the TDC predictions are not present in ChEMBL, such as CHEMBL1369407. THis is very odd, as how could it have received an ID in the first place... If there are other such spurious labels, we should probably drop them. There are 2331700 distinct ChEMBL IDs."
   ]
  },
  {
   "cell_type": "code",
   "execution_count": 71,
   "metadata": {},
   "outputs": [
    {
     "name": "stdout",
     "output_type": "stream",
     "text": [
      "92902\n",
      "8792\n"
     ]
    }
   ],
   "source": [
    "# Pulled all ChEMBL IDs from database using command `\\copy (SELECT DISTINCT chembl_id FROM molecule_dictionary) TO ../data/interim/list_chembl_ids.csv CSV`\n",
    "\n",
    "list_chembl_ids = list(pd.read_csv('../../data/interim/list_chembl_ids.csv', names = ['ID'])['ID'])\n",
    "\n",
    "# And filter out rows with missing chembl id\n",
    "print(len(adme_predictions))\n",
    "adme_predictions = adme_predictions[adme_predictions.drug_id.isin(list_chembl_ids)]\n",
    "print(len(adme_predictions))\n",
    "\n",
    "# That lost a lot of data points..."
   ]
  },
  {
   "cell_type": "code",
   "execution_count": 76,
   "metadata": {},
   "outputs": [
    {
     "data": {
      "text/plain": [
       "792"
      ]
     },
     "execution_count": 76,
     "metadata": {},
     "output_type": "execute_result"
    }
   ],
   "source": [
    "# Now can add data safely\n",
    "adme_predictions.reset_index(inplace = True, drop = True)\n",
    "adme_predictions.to_sql('adme_predictions', engine, if_exists='append', index_label = 'id')"
   ]
  },
  {
   "cell_type": "code",
   "execution_count": 77,
   "metadata": {},
   "outputs": [
    {
     "data": {
      "text/plain": [
       "['CHEMBL1',\n",
       " 'CHEMBL10',\n",
       " 'CHEMBL100',\n",
       " 'CHEMBL1000',\n",
       " 'CHEMBL10000',\n",
       " 'CHEMBL100001',\n",
       " 'CHEMBL100003',\n",
       " 'CHEMBL100004',\n",
       " 'CHEMBL100005',\n",
       " 'CHEMBL100006']"
      ]
     },
     "execution_count": 77,
     "metadata": {},
     "output_type": "execute_result"
    }
   ],
   "source": [
    "list_chembl_ids[:10]"
   ]
  },
  {
   "cell_type": "code",
   "execution_count": 61,
   "metadata": {},
   "outputs": [
    {
     "data": {
      "text/plain": [
       "39701"
      ]
     },
     "execution_count": 61,
     "metadata": {},
     "output_type": "execute_result"
    }
   ],
   "source": [
    "len(set(adme_predictions.drug_id))"
   ]
  },
  {
   "cell_type": "code",
   "execution_count": null,
   "metadata": {},
   "outputs": [],
   "source": []
  }
 ],
 "metadata": {
  "kernelspec": {
   "display_name": "Python 3",
   "language": "python",
   "name": "python3"
  },
  "language_info": {
   "codemirror_mode": {
    "name": "ipython",
    "version": 3
   },
   "file_extension": ".py",
   "mimetype": "text/x-python",
   "name": "python",
   "nbconvert_exporter": "python",
   "pygments_lexer": "ipython3",
   "version": "3.11.1"
  },
  "orig_nbformat": 4,
  "vscode": {
   "interpreter": {
    "hash": "aee8b7b246df8f9039afb4144a1f6fd8d2ca17a180786b69acc140d282b71a49"
   }
  }
 },
 "nbformat": 4,
 "nbformat_minor": 2
}
